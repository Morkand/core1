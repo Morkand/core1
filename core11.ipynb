{
 "cells": [
  {
   "cell_type": "markdown",
   "id": "f6df9768",
   "metadata": {},
   "source": [
    "# Reducción de Dimensionalidad y Benchmarking de Modelos"
   ]
  },
  {
   "cell_type": "markdown",
   "id": "cc3f1552",
   "metadata": {},
   "source": [
    "### Paso 1: Selección y Carga del Dataset"
   ]
  },
  {
   "cell_type": "code",
   "execution_count": null,
   "id": "b7aac38a",
   "metadata": {},
   "outputs": [],
   "source": [
    "\n",
    "import pandas as pd\n",
    "import numpy as np\n",
    "\n",
    "# Cargar el dataset\n",
    "file_path = \"dataset.csv\"  # Cambia esta ruta al archivo adecuado\n",
    "df = pd.read_csv(file_path)\n",
    "\n",
    "# Inspeccionar los datos\n",
    "print(\"Primeras filas del dataset:\")\n",
    "print(df.head())\n",
    "\n",
    "# Información del dataset\n",
    "print(\"\\nInformación del dataset:\")\n",
    "print(df.info())\n",
    "\n",
    "# Resumen estadístico\n",
    "print(\"\\nResumen estadístico:\")\n",
    "print(df.describe())\n",
    "\n",
    "# Verificar valores nulos\n",
    "print(\"\\nValores nulos por columna:\")\n",
    "print(df.isnull().sum())\n",
    "\n",
    "# Separar características y variable objetivo\n",
    "X = df.drop(columns=['target'])  # Cambia 'target' por el nombre de tu variable objetivo\n",
    "y = df['target']\n"
   ]
  },
  {
   "cell_type": "markdown",
   "id": "e42dfb91",
   "metadata": {},
   "source": [
    "### Paso 2: Reducción de Dimensionalidad con PCA"
   ]
  },
  {
   "cell_type": "code",
   "execution_count": null,
   "id": "ad620577",
   "metadata": {},
   "outputs": [],
   "source": [
    "\n",
    "from sklearn.decomposition import PCA\n",
    "from sklearn.preprocessing import StandardScaler\n",
    "import matplotlib.pyplot as plt\n",
    "\n",
    "# Escalar los datos\n",
    "scaler = StandardScaler()\n",
    "X_scaled = scaler.fit_transform(X)\n",
    "\n",
    "# Aplicar PCA\n",
    "pca = PCA()\n",
    "X_pca = pca.fit_transform(X_scaled)\n",
    "\n",
    "# Explicación de la varianza acumulada\n",
    "explained_variance = np.cumsum(pca.explained_variance_ratio_)\n",
    "\n",
    "# Visualizar la varianza explicada\n",
    "plt.figure(figsize=(10, 6))\n",
    "plt.plot(range(1, len(explained_variance) + 1), explained_variance, marker='o', linestyle='--')\n",
    "plt.title('Varianza Explicada Acumulada por Número de Componentes Principales')\n",
    "plt.xlabel('Número de Componentes')\n",
    "plt.ylabel('Varianza Explicada Acumulada')\n",
    "plt.grid(True)\n",
    "plt.show()\n",
    "\n",
    "# Seleccionar componentes que expliquen al menos el 90% de la varianza\n",
    "n_components = np.argmax(explained_variance >= 0.9) + 1\n",
    "print(f\"Seleccionando {n_components} componentes principales que explican el 90% de la varianza.\")\n",
    "\n",
    "# Reducir dimensionalidad\n",
    "pca = PCA(n_components=n_components)\n",
    "X_reduced = pca.fit_transform(X_scaled)\n"
   ]
  },
  {
   "cell_type": "markdown",
   "id": "ea8c525b",
   "metadata": {},
   "source": [
    "### Paso 3: Benchmarking de Modelos"
   ]
  },
  {
   "cell_type": "code",
   "execution_count": null,
   "id": "b7afdd68",
   "metadata": {},
   "outputs": [],
   "source": [
    "\n",
    "from sklearn.model_selection import cross_val_score\n",
    "from sklearn.linear_model import LogisticRegression\n",
    "from sklearn.tree import DecisionTreeClassifier\n",
    "from sklearn.ensemble import RandomForestClassifier\n",
    "from sklearn.svm import SVC\n",
    "\n",
    "# Definir modelos a comparar\n",
    "models = {\n",
    "    \"Regresión Logística\": LogisticRegression(max_iter=1000),\n",
    "    \"Árbol de Decisión\": DecisionTreeClassifier(),\n",
    "    \"Random Forest\": RandomForestClassifier(),\n",
    "    \"SVM\": SVC(probability=True)\n",
    "}\n",
    "\n",
    "# Validación cruzada para cada modelo\n",
    "results = {}\n",
    "for name, model in models.items():\n",
    "    scores = cross_val_score(model, X_reduced, y, cv=5, scoring='accuracy')\n",
    "    results[name] = scores\n",
    "    print(f\"{name}: Precisión promedio = {scores.mean():.4f} (+/- {scores.std():.4f})\")\n"
   ]
  },
  {
   "cell_type": "markdown",
   "id": "901b0484",
   "metadata": {},
   "source": [
    "### Paso 4: Análisis Comparativo de Modelos"
   ]
  },
  {
   "cell_type": "code",
   "execution_count": null,
   "id": "4b279994",
   "metadata": {},
   "outputs": [],
   "source": [
    "\n",
    "import matplotlib.pyplot as plt\n",
    "\n",
    "# Comparar los resultados\n",
    "mean_scores = {name: scores.mean() for name, scores in results.items()}\n",
    "std_scores = {name: scores.std() for name, scores in results.items()}\n",
    "\n",
    "# Visualizar las precisiones promedio\n",
    "plt.figure(figsize=(10, 6))\n",
    "plt.bar(mean_scores.keys(), mean_scores.values(), yerr=std_scores.values(), capsize=5)\n",
    "plt.title('Comparación de Modelos: Precisión Promedio')\n",
    "plt.xlabel('Modelos')\n",
    "plt.ylabel('Precisión Promedio')\n",
    "plt.xticks(rotation=45)\n",
    "plt.grid(axis='y')\n",
    "plt.show()\n"
   ]
  },
  {
   "cell_type": "markdown",
   "id": "f59769b9",
   "metadata": {},
   "source": [
    "### Paso 5: Conclusiones y Recomendaciones"
   ]
  },
  {
   "cell_type": "markdown",
   "id": "e94435e8",
   "metadata": {},
   "source": [
    "\n",
    "- **Reducción de Dimensionalidad**: La técnica de PCA permitió reducir el número de características a un subconjunto que explica al menos el 90% de la variabilidad del dataset, simplificando así el problema sin perder información relevante.\n",
    "\n",
    "- **Benchmarking de Modelos**: Los modelos fueron evaluados mediante validación cruzada, y los resultados mostraron que:\n",
    "  - [Completa aquí con los hallazgos específicos de cada modelo].\n",
    "\n",
    "- **Recomendaciones**: Basado en el análisis comparativo, el modelo [modelo seleccionado] es el más adecuado para este problema debido a su [razones específicas, como precisión alta, estabilidad, tiempo de entrenamiento, etc.].\n"
   ]
  }
 ],
 "metadata": {},
 "nbformat": 4,
 "nbformat_minor": 5
}
