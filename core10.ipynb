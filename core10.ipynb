{
 "cells": [
  {
   "cell_type": "markdown",
   "id": "c93bea22",
   "metadata": {},
   "source": [
    "# Predicción de Series Temporales con RNN (LSTM) y Prophet"
   ]
  },
  {
   "cell_type": "markdown",
   "id": "9cfe59ef",
   "metadata": {},
   "source": [
    "### Paso 1: Selección y Carga del Dataset"
   ]
  },
  {
   "cell_type": "code",
   "execution_count": null,
   "id": "6b2892f1",
   "metadata": {},
   "outputs": [],
   "source": [
    "\n",
    "import pandas as pd\n",
    "import numpy as np\n",
    "\n",
    "# Cargar el dataset\n",
    "file_path = \"air_quality.csv\"  # Cambia esta ruta si es necesario\n",
    "df = pd.read_csv(file_path)\n",
    "\n",
    "# Inspeccionar los datos\n",
    "print(\"Primeras filas del dataset:\")\n",
    "print(df.head())\n",
    "\n",
    "# Información del dataset\n",
    "print(\"\\nInformación del dataset:\")\n",
    "print(df.info())\n",
    "\n",
    "# Convertir la columna de tiempo a formato datetime si es necesario\n",
    "df['datetime'] = pd.to_datetime(df['datetime'])\n",
    "df.set_index('datetime', inplace=True)\n",
    "\n",
    "# Visualizar las primeras filas\n",
    "df.head()\n"
   ]
  },
  {
   "cell_type": "markdown",
   "id": "ca2935a0",
   "metadata": {},
   "source": [
    "### Paso 2: Exploración y Preprocesamiento de Datos"
   ]
  },
  {
   "cell_type": "code",
   "execution_count": null,
   "id": "b0d57989",
   "metadata": {},
   "outputs": [],
   "source": [
    "\n",
    "import matplotlib.pyplot as plt\n",
    "\n",
    "# Visualizar la serie temporal\n",
    "plt.figure(figsize=(12, 6))\n",
    "plt.plot(df['value'], label='Serie Temporal Original')\n",
    "plt.title('Serie Temporal')\n",
    "plt.xlabel('Tiempo')\n",
    "plt.ylabel('Valor')\n",
    "plt.legend()\n",
    "plt.show()\n",
    "\n",
    "# Normalizar los datos\n",
    "from sklearn.preprocessing import MinMaxScaler\n",
    "\n",
    "scaler = MinMaxScaler(feature_range=(0, 1))\n",
    "df['scaled_value'] = scaler.fit_transform(df[['value']])\n",
    "\n",
    "# Crear conjuntos de entrenamiento y prueba\n",
    "train_size = int(len(df) * 0.8)\n",
    "train, test = df[:train_size], df[train_size:]\n"
   ]
  },
  {
   "cell_type": "markdown",
   "id": "cf2916b6",
   "metadata": {},
   "source": [
    "### Paso 3: Implementación de la RNN con LSTM"
   ]
  },
  {
   "cell_type": "code",
   "execution_count": null,
   "id": "df03c947",
   "metadata": {},
   "outputs": [],
   "source": [
    "\n",
    "from tensorflow.keras.models import Sequential\n",
    "from tensorflow.keras.layers import LSTM, Dense\n",
    "from tensorflow.keras.preprocessing.sequence import TimeseriesGenerator\n",
    "\n",
    "# Crear generadores de series temporales\n",
    "look_back = 10  # Número de pasos hacia atrás\n",
    "train_generator = TimeseriesGenerator(train['scaled_value'], train['scaled_value'], length=look_back, batch_size=32)\n",
    "test_generator = TimeseriesGenerator(test['scaled_value'], test['scaled_value'], length=look_back, batch_size=32)\n",
    "\n",
    "# Crear el modelo LSTM\n",
    "model = Sequential([\n",
    "    LSTM(50, activation='relu', input_shape=(look_back, 1)),\n",
    "    Dense(1)\n",
    "])\n",
    "\n",
    "# Compilar el modelo\n",
    "model.compile(optimizer='adam', loss='mse')\n",
    "\n",
    "# Entrenar el modelo\n",
    "history = model.fit(train_generator, validation_data=test_generator, epochs=50, verbose=1)\n",
    "\n",
    "# Visualizar las curvas de aprendizaje\n",
    "plt.figure(figsize=(12, 6))\n",
    "plt.plot(history.history['loss'], label='Pérdida de Entrenamiento')\n",
    "plt.plot(history.history['val_loss'], label='Pérdida de Validación')\n",
    "plt.title('Curvas de Pérdida durante el Entrenamiento')\n",
    "plt.xlabel('Épocas')\n",
    "plt.ylabel('Pérdida (MSE)')\n",
    "plt.legend()\n",
    "plt.show()\n"
   ]
  },
  {
   "cell_type": "markdown",
   "id": "8745f77d",
   "metadata": {},
   "source": [
    "### Paso 4: Predicción con Prophet"
   ]
  },
  {
   "cell_type": "code",
   "execution_count": null,
   "id": "24fde33b",
   "metadata": {},
   "outputs": [],
   "source": [
    "\n",
    "from prophet import Prophet\n",
    "\n",
    "# Preparar los datos para Prophet\n",
    "prophet_df = df.reset_index()[['datetime', 'value']].rename(columns={'datetime': 'ds', 'value': 'y'})\n",
    "\n",
    "# Crear y entrenar el modelo Prophet\n",
    "prophet_model = Prophet()\n",
    "prophet_model.fit(prophet_df[:train_size])\n",
    "\n",
    "# Realizar predicciones\n",
    "future = prophet_model.make_future_dataframe(periods=len(test), freq='H')\n",
    "forecast = prophet_model.predict(future)\n",
    "\n",
    "# Visualizar las predicciones\n",
    "prophet_model.plot(forecast)\n",
    "plt.title('Predicciones con Prophet')\n",
    "plt.show()\n"
   ]
  },
  {
   "cell_type": "markdown",
   "id": "e3c4712d",
   "metadata": {},
   "source": [
    "### Paso 5: Comparación de Resultados"
   ]
  },
  {
   "cell_type": "code",
   "execution_count": null,
   "id": "7bbad7c5",
   "metadata": {},
   "outputs": [],
   "source": [
    "\n",
    "from sklearn.metrics import mean_squared_error, mean_absolute_error\n",
    "\n",
    "# Predicciones con LSTM\n",
    "lstm_predictions = model.predict(test_generator)\n",
    "lstm_predictions = scaler.inverse_transform(lstm_predictions)\n",
    "\n",
    "# Calcular métricas de LSTM\n",
    "lstm_rmse = np.sqrt(mean_squared_error(test['value'][look_back:], lstm_predictions))\n",
    "lstm_mae = mean_absolute_error(test['value'][look_back:], lstm_predictions)\n",
    "\n",
    "# Calcular métricas de Prophet\n",
    "prophet_predictions = forecast.iloc[-len(test):]['yhat'].values\n",
    "prophet_rmse = np.sqrt(mean_squared_error(test['value'], prophet_predictions))\n",
    "prophet_mae = mean_absolute_error(test['value'], prophet_predictions)\n",
    "\n",
    "print(f\"LSTM RMSE: {lstm_rmse:.4f}, MAE: {lstm_mae:.4f}\")\n",
    "print(f\"Prophet RMSE: {prophet_rmse:.4f}, MAE: {prophet_mae:.4f}\")\n",
    "\n",
    "# Visualizar las predicciones\n",
    "plt.figure(figsize=(12, 6))\n",
    "plt.plot(test['value'].values, label='Valores Reales', color='blue')\n",
    "plt.plot(range(look_back, len(lstm_predictions) + look_back), lstm_predictions, label='Predicciones LSTM', color='red')\n",
    "plt.plot(prophet_predictions, label='Predicciones Prophet', color='green')\n",
    "plt.title('Comparación de Predicciones')\n",
    "plt.xlabel('Tiempo')\n",
    "plt.ylabel('Valor')\n",
    "plt.legend()\n",
    "plt.show()\n"
   ]
  }
 ],
 "metadata": {},
 "nbformat": 4,
 "nbformat_minor": 5
}
